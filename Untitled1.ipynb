{
 "cells": [
  {
   "cell_type": "code",
   "execution_count": 25,
   "metadata": {},
   "outputs": [],
   "source": [
    "import cv2, os, glob\n",
    "import numpy as np\n",
    "import matplotlib.pyplot as plt\n",
    "from keras.layers import Conv2D, Input, Activation\n",
    "from keras.models import Model\n",
    "from keras.callbacks import ModelCheckpoint\n",
    "from skimage.transform import pyramid_expand\n",
    "from Subpixel import Subpixel\n",
    "from DataGenerator import DataGenerator"
   ]
  },
  {
   "cell_type": "code",
   "execution_count": 26,
   "metadata": {},
   "outputs": [
    {
     "name": "stdout",
     "output_type": "stream",
     "text": [
      "162770 19867\n",
      "D:\\DeepLearning\\super_resolution-master\\sda1\\celeba-dataset\\processed\\x_train\\000001.npy\n"
     ]
    }
   ],
   "source": [
    "base_path = 'D:\\DeepLearning\\super_resolution-master\\sda1\\celeba-dataset\\processed'\n",
    "\n",
    "x_train_list = sorted(glob.glob(os.path.join(base_path, 'x_train', '*.npy')))\n",
    "x_val_list = sorted(glob.glob(os.path.join(base_path, 'x_val', '*.npy')))\n",
    "\n",
    "print(len(x_train_list), len(x_val_list))\n",
    "print(x_train_list[0])"
   ]
  },
  {
   "cell_type": "code",
   "execution_count": 4,
   "metadata": {},
   "outputs": [
    {
     "name": "stdout",
     "output_type": "stream",
     "text": [
      "19962 19962\n",
      "D:\\DeepLearning\\super_resolution-master\\sda1\\celeba-dataset\\processed\\x_test\\182638.npy\n"
     ]
    }
   ],
   "source": [
    "x_test_list = sorted(glob.glob(os.path.join(base_path, 'x_test', '*.npy')))\n",
    "y_test_list = sorted(glob.glob(os.path.join(base_path, 'y_test', '*.npy')))\n",
    "\n",
    "print(len(x_test_list), len(y_test_list))\n",
    "print(x_test_list[0])"
   ]
  },
  {
   "cell_type": "code",
   "execution_count": 24,
   "metadata": {},
   "outputs": [
    {
     "name": "stdout",
     "output_type": "stream",
     "text": [
      "<DataGenerator.DataGenerator object at 0x0000025ECE89F580>\n"
     ]
    }
   ],
   "source": [
    "text_gen = DataGenerator(list_IDs=x_test_list, labels=None, batch_size=16, dim=(44,44), n_channels=3, n_classes=None, shuffle=True)\n",
    "print(text_gen)\n",
    "# x1_test, y1_test = text_gen.__data_generation(x_test_list)"
   ]
  },
  {
   "cell_type": "code",
   "execution_count": 22,
   "metadata": {},
   "outputs": [
    {
     "name": "stdout",
     "output_type": "stream",
     "text": [
      "(None, 44, 44, 3)\n",
      "(44, 44, 1)\n",
      "(176, 176, 4)\n"
     ]
    }
   ],
   "source": [
    "inputs = Input(shape=(44, 44, 3))\n",
    "print(inputs.shape)\n",
    "\n",
    "test_idx = 21\n",
    "\n",
    "x1_test = np.load(x_test_list[test_idx])\n",
    "print(x1_test.shape)\n",
    "# print(x1_test)\n",
    "x1_test_resized = pyramid_expand(x1_test, 4)\n",
    "print(x1_test_resized.shape)\n",
    "# x1_test_resized.reshape((1, 44, 44, 3))\n",
    "# x1_test.reshape((44, 44,3))"
   ]
  }
 ],
 "metadata": {
  "kernelspec": {
   "display_name": "Python 3",
   "language": "python",
   "name": "python3"
  },
  "language_info": {
   "codemirror_mode": {
    "name": "ipython",
    "version": 3
   },
   "file_extension": ".py",
   "mimetype": "text/x-python",
   "name": "python",
   "nbconvert_exporter": "python",
   "pygments_lexer": "ipython3",
   "version": "3.8.5"
  }
 },
 "nbformat": 4,
 "nbformat_minor": 4
}
